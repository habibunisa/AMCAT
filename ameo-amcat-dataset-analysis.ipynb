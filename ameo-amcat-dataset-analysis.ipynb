{
 "cells": [
  {
   "cell_type": "code",
   "execution_count": 1,
   "id": "bd6c160c",
   "metadata": {
    "_cell_guid": "b1076dfc-b9ad-4769-8c92-a6c4dae69d19",
    "_uuid": "8f2839f25d086af736a60e9eeb907d3b93b6e0e5",
    "execution": {
     "iopub.execute_input": "2022-05-13T17:32:04.188804Z",
     "iopub.status.busy": "2022-05-13T17:32:04.188501Z",
     "iopub.status.idle": "2022-05-13T17:32:05.342773Z",
     "shell.execute_reply": "2022-05-13T17:32:05.341412Z"
    },
    "papermill": {
     "duration": 1.206587,
     "end_time": "2022-05-13T17:32:05.346418",
     "exception": false,
     "start_time": "2022-05-13T17:32:04.139831",
     "status": "completed"
    },
    "tags": []
   },
   "outputs": [
    {
     "name": "stdout",
     "output_type": "stream",
     "text": [
      "/kaggle/input/ameo-amcat-dataset/results.xlsx\n",
      "/kaggle/input/ameo-amcat-dataset/test.xlsx\n",
      "/kaggle/input/ameo-amcat-dataset/data_description_doc.xlsx\n",
      "/kaggle/input/ameo-amcat-dataset/Dataset Instructions.pdf\n",
      "/kaggle/input/ameo-amcat-dataset/train.xlsx\n"
     ]
    }
   ],
   "source": [
    "# This Python 3 environment comes with many helpful analytics libraries installed\n",
    "# It is defined by the kaggle/python Docker image: https://github.com/kaggle/docker-python\n",
    "# For example, here's several helpful packages to load\n",
    "\n",
    "import numpy as np # linear algebra\n",
    "import pandas as pd # data processing, CSV file I/O (e.g. pd.read_csv)\n",
    "import seaborn as sns\n",
    "# Input data files are available in the read-only \"../input/\" directory\n",
    "# For example, running this (by clicking run or pressing Shift+Enter) will list all files under the input directory\n",
    "\n",
    "import os\n",
    "for dirname, _, filenames in os.walk('/kaggle/input'):\n",
    "    for filename in filenames:\n",
    "        print(os.path.join(dirname, filename))\n",
    "\n",
    "# You can write up to 20GB to the current directory (/kaggle/working/) that gets preserved as output when you create a version using \"Save & Run All\" \n",
    "# You can also write temporary files to /kaggle/temp/, but they won't be saved outside of the current session"
   ]
  },
  {
   "cell_type": "code",
   "execution_count": 2,
   "id": "2723f56e",
   "metadata": {
    "execution": {
     "iopub.execute_input": "2022-05-13T17:32:05.409868Z",
     "iopub.status.busy": "2022-05-13T17:32:05.409562Z",
     "iopub.status.idle": "2022-05-13T17:32:19.261868Z",
     "shell.execute_reply": "2022-05-13T17:32:19.260896Z"
    },
    "papermill": {
     "duration": 13.886691,
     "end_time": "2022-05-13T17:32:19.264852",
     "exception": false,
     "start_time": "2022-05-13T17:32:05.378161",
     "status": "completed"
    },
    "tags": []
   },
   "outputs": [
    {
     "name": "stdout",
     "output_type": "stream",
     "text": [
      "Collecting openpyxl\r\n",
      "  Downloading openpyxl-3.0.9-py2.py3-none-any.whl (242 kB)\r\n",
      "\u001b[2K     \u001b[90m━━━━━━━━━━━━━━━━━━━━━━━━━━━━━━━━━━━━━━━\u001b[0m \u001b[32m242.2/242.2 KB\u001b[0m \u001b[31m1.0 MB/s\u001b[0m eta \u001b[36m0:00:00\u001b[0m\r\n",
      "\u001b[?25hCollecting et-xmlfile\r\n",
      "  Downloading et_xmlfile-1.1.0-py3-none-any.whl (4.7 kB)\r\n",
      "Installing collected packages: et-xmlfile, openpyxl\r\n",
      "Successfully installed et-xmlfile-1.1.0 openpyxl-3.0.9\r\n",
      "\u001b[33mWARNING: Running pip as the 'root' user can result in broken permissions and conflicting behaviour with the system package manager. It is recommended to use a virtual environment instead: https://pip.pypa.io/warnings/venv\u001b[0m\u001b[33m\r\n",
      "\u001b[0mNote: you may need to restart the kernel to use updated packages.\n"
     ]
    }
   ],
   "source": [
    "pip install openpyxl"
   ]
  },
  {
   "cell_type": "code",
   "execution_count": 3,
   "id": "6eb6e416",
   "metadata": {
    "execution": {
     "iopub.execute_input": "2022-05-13T17:32:19.371992Z",
     "iopub.status.busy": "2022-05-13T17:32:19.371789Z",
     "iopub.status.idle": "2022-05-13T17:32:19.708359Z",
     "shell.execute_reply": "2022-05-13T17:32:19.707338Z"
    },
    "papermill": {
     "duration": 0.392246,
     "end_time": "2022-05-13T17:32:19.710880",
     "exception": false,
     "start_time": "2022-05-13T17:32:19.318634",
     "status": "completed"
    },
    "tags": []
   },
   "outputs": [],
   "source": [
    "df = pd.read_excel(\"../input/ameo-amcat-dataset/results.xlsx\")"
   ]
  },
  {
   "cell_type": "code",
   "execution_count": 4,
   "id": "204900ac",
   "metadata": {
    "execution": {
     "iopub.execute_input": "2022-05-13T17:32:19.821297Z",
     "iopub.status.busy": "2022-05-13T17:32:19.821100Z",
     "iopub.status.idle": "2022-05-13T17:32:19.836091Z",
     "shell.execute_reply": "2022-05-13T17:32:19.835542Z"
    },
    "papermill": {
     "duration": 0.071673,
     "end_time": "2022-05-13T17:32:19.838189",
     "exception": false,
     "start_time": "2022-05-13T17:32:19.766516",
     "status": "completed"
    },
    "tags": []
   },
   "outputs": [
    {
     "data": {
      "text/html": [
       "<div>\n",
       "<style scoped>\n",
       "    .dataframe tbody tr th:only-of-type {\n",
       "        vertical-align: middle;\n",
       "    }\n",
       "\n",
       "    .dataframe tbody tr th {\n",
       "        vertical-align: top;\n",
       "    }\n",
       "\n",
       "    .dataframe thead th {\n",
       "        text-align: right;\n",
       "    }\n",
       "</style>\n",
       "<table border=\"1\" class=\"dataframe\">\n",
       "  <thead>\n",
       "    <tr style=\"text-align: right;\">\n",
       "      <th></th>\n",
       "      <th>ID</th>\n",
       "      <th>Salary</th>\n",
       "    </tr>\n",
       "  </thead>\n",
       "  <tbody>\n",
       "    <tr>\n",
       "      <th>0</th>\n",
       "      <td>664736</td>\n",
       "      <td>NaN</td>\n",
       "    </tr>\n",
       "    <tr>\n",
       "      <th>1</th>\n",
       "      <td>1123290</td>\n",
       "      <td>NaN</td>\n",
       "    </tr>\n",
       "    <tr>\n",
       "      <th>2</th>\n",
       "      <td>1062444</td>\n",
       "      <td>NaN</td>\n",
       "    </tr>\n",
       "    <tr>\n",
       "      <th>3</th>\n",
       "      <td>1072028</td>\n",
       "      <td>NaN</td>\n",
       "    </tr>\n",
       "    <tr>\n",
       "      <th>4</th>\n",
       "      <td>267259</td>\n",
       "      <td>NaN</td>\n",
       "    </tr>\n",
       "  </tbody>\n",
       "</table>\n",
       "</div>"
      ],
      "text/plain": [
       "        ID  Salary\n",
       "0   664736     NaN\n",
       "1  1123290     NaN\n",
       "2  1062444     NaN\n",
       "3  1072028     NaN\n",
       "4   267259     NaN"
      ]
     },
     "execution_count": 4,
     "metadata": {},
     "output_type": "execute_result"
    }
   ],
   "source": [
    "df.head()"
   ]
  },
  {
   "cell_type": "code",
   "execution_count": 5,
   "id": "6b81592d",
   "metadata": {
    "execution": {
     "iopub.execute_input": "2022-05-13T17:32:19.945123Z",
     "iopub.status.busy": "2022-05-13T17:32:19.944739Z",
     "iopub.status.idle": "2022-05-13T17:32:20.691162Z",
     "shell.execute_reply": "2022-05-13T17:32:20.690344Z"
    },
    "papermill": {
     "duration": 0.802199,
     "end_time": "2022-05-13T17:32:20.693312",
     "exception": false,
     "start_time": "2022-05-13T17:32:19.891113",
     "status": "completed"
    },
    "tags": []
   },
   "outputs": [],
   "source": [
    "df = pd.read_excel(\"../input/ameo-amcat-dataset/test.xlsx\")"
   ]
  },
  {
   "cell_type": "markdown",
   "id": "459d28cc",
   "metadata": {
    "papermill": {
     "duration": 0.035422,
     "end_time": "2022-05-13T17:32:20.783393",
     "exception": false,
     "start_time": "2022-05-13T17:32:20.747971",
     "status": "completed"
    },
    "tags": []
   },
   "source": [
    "# we are using only train dataset: df_train"
   ]
  },
  {
   "cell_type": "code",
   "execution_count": 6,
   "id": "5725cbec",
   "metadata": {
    "execution": {
     "iopub.execute_input": "2022-05-13T17:32:20.854647Z",
     "iopub.status.busy": "2022-05-13T17:32:20.854458Z",
     "iopub.status.idle": "2022-05-13T17:32:22.920515Z",
     "shell.execute_reply": "2022-05-13T17:32:22.919215Z"
    },
    "papermill": {
     "duration": 2.10425,
     "end_time": "2022-05-13T17:32:22.922926",
     "exception": false,
     "start_time": "2022-05-13T17:32:20.818676",
     "status": "completed"
    },
    "tags": []
   },
   "outputs": [],
   "source": [
    "df_train = pd.read_excel(\"../input/ameo-amcat-dataset/train.xlsx\")"
   ]
  },
  {
   "cell_type": "code",
   "execution_count": 7,
   "id": "cf67fd90",
   "metadata": {
    "execution": {
     "iopub.execute_input": "2022-05-13T17:32:23.030610Z",
     "iopub.status.busy": "2022-05-13T17:32:23.030235Z",
     "iopub.status.idle": "2022-05-13T17:32:23.058429Z",
     "shell.execute_reply": "2022-05-13T17:32:23.057542Z"
    },
    "papermill": {
     "duration": 0.0842,
     "end_time": "2022-05-13T17:32:23.060259",
     "exception": false,
     "start_time": "2022-05-13T17:32:22.976059",
     "status": "completed"
    },
    "tags": []
   },
   "outputs": [
    {
     "data": {
      "text/html": [
       "<div>\n",
       "<style scoped>\n",
       "    .dataframe tbody tr th:only-of-type {\n",
       "        vertical-align: middle;\n",
       "    }\n",
       "\n",
       "    .dataframe tbody tr th {\n",
       "        vertical-align: top;\n",
       "    }\n",
       "\n",
       "    .dataframe thead th {\n",
       "        text-align: right;\n",
       "    }\n",
       "</style>\n",
       "<table border=\"1\" class=\"dataframe\">\n",
       "  <thead>\n",
       "    <tr style=\"text-align: right;\">\n",
       "      <th></th>\n",
       "      <th>Unnamed: 0</th>\n",
       "      <th>ID</th>\n",
       "      <th>Salary</th>\n",
       "      <th>DOJ</th>\n",
       "      <th>DOL</th>\n",
       "      <th>Designation</th>\n",
       "      <th>JobCity</th>\n",
       "      <th>Gender</th>\n",
       "      <th>DOB</th>\n",
       "      <th>10percentage</th>\n",
       "      <th>...</th>\n",
       "      <th>ComputerScience</th>\n",
       "      <th>MechanicalEngg</th>\n",
       "      <th>ElectricalEngg</th>\n",
       "      <th>TelecomEngg</th>\n",
       "      <th>CivilEngg</th>\n",
       "      <th>conscientiousness</th>\n",
       "      <th>agreeableness</th>\n",
       "      <th>extraversion</th>\n",
       "      <th>nueroticism</th>\n",
       "      <th>openess_to_experience</th>\n",
       "    </tr>\n",
       "  </thead>\n",
       "  <tbody>\n",
       "    <tr>\n",
       "      <th>0</th>\n",
       "      <td>train</td>\n",
       "      <td>203097</td>\n",
       "      <td>420000</td>\n",
       "      <td>2012-06-01</td>\n",
       "      <td>present</td>\n",
       "      <td>senior quality engineer</td>\n",
       "      <td>Bangalore</td>\n",
       "      <td>f</td>\n",
       "      <td>1990-02-19</td>\n",
       "      <td>84.3</td>\n",
       "      <td>...</td>\n",
       "      <td>-1</td>\n",
       "      <td>-1</td>\n",
       "      <td>-1</td>\n",
       "      <td>-1</td>\n",
       "      <td>-1</td>\n",
       "      <td>0.9737</td>\n",
       "      <td>0.8128</td>\n",
       "      <td>0.5269</td>\n",
       "      <td>1.35490</td>\n",
       "      <td>-0.4455</td>\n",
       "    </tr>\n",
       "    <tr>\n",
       "      <th>1</th>\n",
       "      <td>train</td>\n",
       "      <td>579905</td>\n",
       "      <td>500000</td>\n",
       "      <td>2013-09-01</td>\n",
       "      <td>present</td>\n",
       "      <td>assistant manager</td>\n",
       "      <td>Indore</td>\n",
       "      <td>m</td>\n",
       "      <td>1989-10-04</td>\n",
       "      <td>85.4</td>\n",
       "      <td>...</td>\n",
       "      <td>-1</td>\n",
       "      <td>-1</td>\n",
       "      <td>-1</td>\n",
       "      <td>-1</td>\n",
       "      <td>-1</td>\n",
       "      <td>-0.7335</td>\n",
       "      <td>0.3789</td>\n",
       "      <td>1.2396</td>\n",
       "      <td>-0.10760</td>\n",
       "      <td>0.8637</td>\n",
       "    </tr>\n",
       "    <tr>\n",
       "      <th>2</th>\n",
       "      <td>train</td>\n",
       "      <td>810601</td>\n",
       "      <td>325000</td>\n",
       "      <td>2014-06-01</td>\n",
       "      <td>present</td>\n",
       "      <td>systems engineer</td>\n",
       "      <td>Chennai</td>\n",
       "      <td>f</td>\n",
       "      <td>1992-08-03</td>\n",
       "      <td>85.0</td>\n",
       "      <td>...</td>\n",
       "      <td>-1</td>\n",
       "      <td>-1</td>\n",
       "      <td>-1</td>\n",
       "      <td>-1</td>\n",
       "      <td>-1</td>\n",
       "      <td>0.2718</td>\n",
       "      <td>1.7109</td>\n",
       "      <td>0.1637</td>\n",
       "      <td>-0.86820</td>\n",
       "      <td>0.6721</td>\n",
       "    </tr>\n",
       "    <tr>\n",
       "      <th>3</th>\n",
       "      <td>train</td>\n",
       "      <td>267447</td>\n",
       "      <td>1100000</td>\n",
       "      <td>2011-07-01</td>\n",
       "      <td>present</td>\n",
       "      <td>senior software engineer</td>\n",
       "      <td>Gurgaon</td>\n",
       "      <td>m</td>\n",
       "      <td>1989-12-05</td>\n",
       "      <td>85.6</td>\n",
       "      <td>...</td>\n",
       "      <td>-1</td>\n",
       "      <td>-1</td>\n",
       "      <td>-1</td>\n",
       "      <td>-1</td>\n",
       "      <td>-1</td>\n",
       "      <td>0.0464</td>\n",
       "      <td>0.3448</td>\n",
       "      <td>-0.3440</td>\n",
       "      <td>-0.40780</td>\n",
       "      <td>-0.9194</td>\n",
       "    </tr>\n",
       "    <tr>\n",
       "      <th>4</th>\n",
       "      <td>train</td>\n",
       "      <td>343523</td>\n",
       "      <td>200000</td>\n",
       "      <td>2014-03-01</td>\n",
       "      <td>2015-03-01 00:00:00</td>\n",
       "      <td>get</td>\n",
       "      <td>Manesar</td>\n",
       "      <td>m</td>\n",
       "      <td>1991-02-27</td>\n",
       "      <td>78.0</td>\n",
       "      <td>...</td>\n",
       "      <td>-1</td>\n",
       "      <td>-1</td>\n",
       "      <td>-1</td>\n",
       "      <td>-1</td>\n",
       "      <td>-1</td>\n",
       "      <td>-0.8810</td>\n",
       "      <td>-0.2793</td>\n",
       "      <td>-1.0697</td>\n",
       "      <td>0.09163</td>\n",
       "      <td>-0.1295</td>\n",
       "    </tr>\n",
       "  </tbody>\n",
       "</table>\n",
       "<p>5 rows × 39 columns</p>\n",
       "</div>"
      ],
      "text/plain": [
       "  Unnamed: 0      ID   Salary        DOJ                  DOL  \\\n",
       "0      train  203097   420000 2012-06-01              present   \n",
       "1      train  579905   500000 2013-09-01              present   \n",
       "2      train  810601   325000 2014-06-01              present   \n",
       "3      train  267447  1100000 2011-07-01              present   \n",
       "4      train  343523   200000 2014-03-01  2015-03-01 00:00:00   \n",
       "\n",
       "                Designation    JobCity Gender        DOB  10percentage  ...  \\\n",
       "0   senior quality engineer  Bangalore      f 1990-02-19          84.3  ...   \n",
       "1         assistant manager     Indore      m 1989-10-04          85.4  ...   \n",
       "2          systems engineer    Chennai      f 1992-08-03          85.0  ...   \n",
       "3  senior software engineer    Gurgaon      m 1989-12-05          85.6  ...   \n",
       "4                       get    Manesar      m 1991-02-27          78.0  ...   \n",
       "\n",
       "  ComputerScience  MechanicalEngg  ElectricalEngg TelecomEngg  CivilEngg  \\\n",
       "0              -1              -1              -1          -1         -1   \n",
       "1              -1              -1              -1          -1         -1   \n",
       "2              -1              -1              -1          -1         -1   \n",
       "3              -1              -1              -1          -1         -1   \n",
       "4              -1              -1              -1          -1         -1   \n",
       "\n",
       "   conscientiousness agreeableness extraversion  nueroticism  \\\n",
       "0             0.9737        0.8128       0.5269      1.35490   \n",
       "1            -0.7335        0.3789       1.2396     -0.10760   \n",
       "2             0.2718        1.7109       0.1637     -0.86820   \n",
       "3             0.0464        0.3448      -0.3440     -0.40780   \n",
       "4            -0.8810       -0.2793      -1.0697      0.09163   \n",
       "\n",
       "   openess_to_experience  \n",
       "0                -0.4455  \n",
       "1                 0.8637  \n",
       "2                 0.6721  \n",
       "3                -0.9194  \n",
       "4                -0.1295  \n",
       "\n",
       "[5 rows x 39 columns]"
      ]
     },
     "execution_count": 7,
     "metadata": {},
     "output_type": "execute_result"
    }
   ],
   "source": [
    "df_train.head()"
   ]
  },
  {
   "cell_type": "code",
   "execution_count": 8,
   "id": "fd956c6f",
   "metadata": {
    "execution": {
     "iopub.execute_input": "2022-05-13T17:32:23.130978Z",
     "iopub.status.busy": "2022-05-13T17:32:23.130643Z",
     "iopub.status.idle": "2022-05-13T17:32:23.162844Z",
     "shell.execute_reply": "2022-05-13T17:32:23.161991Z"
    },
    "papermill": {
     "duration": 0.070305,
     "end_time": "2022-05-13T17:32:23.165155",
     "exception": false,
     "start_time": "2022-05-13T17:32:23.094850",
     "status": "completed"
    },
    "tags": []
   },
   "outputs": [
    {
     "name": "stdout",
     "output_type": "stream",
     "text": [
      "<class 'pandas.core.frame.DataFrame'>\n",
      "RangeIndex: 1500 entries, 0 to 1499\n",
      "Data columns (total 39 columns):\n",
      " #   Column                 Non-Null Count  Dtype         \n",
      "---  ------                 --------------  -----         \n",
      " 0   Unnamed: 0             1500 non-null   object        \n",
      " 1   ID                     1500 non-null   int64         \n",
      " 2   Salary                 1500 non-null   object        \n",
      " 3   DOJ                    1500 non-null   object        \n",
      " 4   DOL                    1500 non-null   object        \n",
      " 5   Designation            1500 non-null   object        \n",
      " 6   JobCity                1500 non-null   object        \n",
      " 7   Gender                 1500 non-null   object        \n",
      " 8   DOB                    1500 non-null   datetime64[ns]\n",
      " 9   10percentage           1500 non-null   float64       \n",
      " 10  10board                1500 non-null   object        \n",
      " 11  12graduation           1500 non-null   int64         \n",
      " 12  12percentage           1500 non-null   float64       \n",
      " 13  12board                1500 non-null   object        \n",
      " 14  CollegeID              1500 non-null   int64         \n",
      " 15  CollegeTier            1500 non-null   int64         \n",
      " 16  Degree                 1500 non-null   object        \n",
      " 17  Specialization         1500 non-null   object        \n",
      " 18  collegeGPA             1500 non-null   float64       \n",
      " 19  CollegeCityID          1500 non-null   int64         \n",
      " 20  CollegeCityTier        1500 non-null   int64         \n",
      " 21  CollegeState           1500 non-null   object        \n",
      " 22  GraduationYear         1500 non-null   int64         \n",
      " 23  English                1500 non-null   int64         \n",
      " 24  Logical                1500 non-null   int64         \n",
      " 25  Quant                  1500 non-null   int64         \n",
      " 26  Domain                 1500 non-null   float64       \n",
      " 27  ComputerProgramming    1500 non-null   int64         \n",
      " 28  ElectronicsAndSemicon  1500 non-null   int64         \n",
      " 29  ComputerScience        1500 non-null   int64         \n",
      " 30  MechanicalEngg         1500 non-null   int64         \n",
      " 31  ElectricalEngg         1500 non-null   int64         \n",
      " 32  TelecomEngg            1500 non-null   int64         \n",
      " 33  CivilEngg              1500 non-null   int64         \n",
      " 34  conscientiousness      1500 non-null   float64       \n",
      " 35  agreeableness          1500 non-null   float64       \n",
      " 36  extraversion           1500 non-null   float64       \n",
      " 37  nueroticism            1500 non-null   float64       \n",
      " 38  openess_to_experience  1500 non-null   float64       \n",
      "dtypes: datetime64[ns](1), float64(9), int64(17), object(12)\n",
      "memory usage: 457.2+ KB\n"
     ]
    }
   ],
   "source": [
    "df.info()"
   ]
  },
  {
   "cell_type": "code",
   "execution_count": 9,
   "id": "0768f25f",
   "metadata": {
    "execution": {
     "iopub.execute_input": "2022-05-13T17:32:23.239075Z",
     "iopub.status.busy": "2022-05-13T17:32:23.238205Z",
     "iopub.status.idle": "2022-05-13T17:32:23.244182Z",
     "shell.execute_reply": "2022-05-13T17:32:23.243107Z"
    },
    "papermill": {
     "duration": 0.043419,
     "end_time": "2022-05-13T17:32:23.245755",
     "exception": false,
     "start_time": "2022-05-13T17:32:23.202336",
     "status": "completed"
    },
    "tags": []
   },
   "outputs": [],
   "source": [
    "# dropping 1st columns from train dataset\n",
    "df_train.drop(\"Unnamed: 0\", axis=1, inplace=True)"
   ]
  },
  {
   "cell_type": "code",
   "execution_count": 10,
   "id": "332a1ca2",
   "metadata": {
    "execution": {
     "iopub.execute_input": "2022-05-13T17:32:23.317126Z",
     "iopub.status.busy": "2022-05-13T17:32:23.316710Z",
     "iopub.status.idle": "2022-05-13T17:32:23.343545Z",
     "shell.execute_reply": "2022-05-13T17:32:23.342871Z"
    },
    "papermill": {
     "duration": 0.064474,
     "end_time": "2022-05-13T17:32:23.345287",
     "exception": false,
     "start_time": "2022-05-13T17:32:23.280813",
     "status": "completed"
    },
    "tags": []
   },
   "outputs": [
    {
     "data": {
      "text/html": [
       "<div>\n",
       "<style scoped>\n",
       "    .dataframe tbody tr th:only-of-type {\n",
       "        vertical-align: middle;\n",
       "    }\n",
       "\n",
       "    .dataframe tbody tr th {\n",
       "        vertical-align: top;\n",
       "    }\n",
       "\n",
       "    .dataframe thead th {\n",
       "        text-align: right;\n",
       "    }\n",
       "</style>\n",
       "<table border=\"1\" class=\"dataframe\">\n",
       "  <thead>\n",
       "    <tr style=\"text-align: right;\">\n",
       "      <th></th>\n",
       "      <th>ID</th>\n",
       "      <th>Salary</th>\n",
       "      <th>DOJ</th>\n",
       "      <th>DOL</th>\n",
       "      <th>Designation</th>\n",
       "      <th>JobCity</th>\n",
       "      <th>Gender</th>\n",
       "      <th>DOB</th>\n",
       "      <th>10percentage</th>\n",
       "      <th>10board</th>\n",
       "      <th>...</th>\n",
       "      <th>ComputerScience</th>\n",
       "      <th>MechanicalEngg</th>\n",
       "      <th>ElectricalEngg</th>\n",
       "      <th>TelecomEngg</th>\n",
       "      <th>CivilEngg</th>\n",
       "      <th>conscientiousness</th>\n",
       "      <th>agreeableness</th>\n",
       "      <th>extraversion</th>\n",
       "      <th>nueroticism</th>\n",
       "      <th>openess_to_experience</th>\n",
       "    </tr>\n",
       "  </thead>\n",
       "  <tbody>\n",
       "    <tr>\n",
       "      <th>0</th>\n",
       "      <td>203097</td>\n",
       "      <td>420000</td>\n",
       "      <td>2012-06-01</td>\n",
       "      <td>present</td>\n",
       "      <td>senior quality engineer</td>\n",
       "      <td>Bangalore</td>\n",
       "      <td>f</td>\n",
       "      <td>1990-02-19</td>\n",
       "      <td>84.30</td>\n",
       "      <td>board ofsecondary education,ap</td>\n",
       "      <td>...</td>\n",
       "      <td>-1</td>\n",
       "      <td>-1</td>\n",
       "      <td>-1</td>\n",
       "      <td>-1</td>\n",
       "      <td>-1</td>\n",
       "      <td>0.9737</td>\n",
       "      <td>0.8128</td>\n",
       "      <td>0.5269</td>\n",
       "      <td>1.35490</td>\n",
       "      <td>-0.4455</td>\n",
       "    </tr>\n",
       "    <tr>\n",
       "      <th>1</th>\n",
       "      <td>579905</td>\n",
       "      <td>500000</td>\n",
       "      <td>2013-09-01</td>\n",
       "      <td>present</td>\n",
       "      <td>assistant manager</td>\n",
       "      <td>Indore</td>\n",
       "      <td>m</td>\n",
       "      <td>1989-10-04</td>\n",
       "      <td>85.40</td>\n",
       "      <td>cbse</td>\n",
       "      <td>...</td>\n",
       "      <td>-1</td>\n",
       "      <td>-1</td>\n",
       "      <td>-1</td>\n",
       "      <td>-1</td>\n",
       "      <td>-1</td>\n",
       "      <td>-0.7335</td>\n",
       "      <td>0.3789</td>\n",
       "      <td>1.2396</td>\n",
       "      <td>-0.10760</td>\n",
       "      <td>0.8637</td>\n",
       "    </tr>\n",
       "    <tr>\n",
       "      <th>2</th>\n",
       "      <td>810601</td>\n",
       "      <td>325000</td>\n",
       "      <td>2014-06-01</td>\n",
       "      <td>present</td>\n",
       "      <td>systems engineer</td>\n",
       "      <td>Chennai</td>\n",
       "      <td>f</td>\n",
       "      <td>1992-08-03</td>\n",
       "      <td>85.00</td>\n",
       "      <td>cbse</td>\n",
       "      <td>...</td>\n",
       "      <td>-1</td>\n",
       "      <td>-1</td>\n",
       "      <td>-1</td>\n",
       "      <td>-1</td>\n",
       "      <td>-1</td>\n",
       "      <td>0.2718</td>\n",
       "      <td>1.7109</td>\n",
       "      <td>0.1637</td>\n",
       "      <td>-0.86820</td>\n",
       "      <td>0.6721</td>\n",
       "    </tr>\n",
       "    <tr>\n",
       "      <th>3</th>\n",
       "      <td>267447</td>\n",
       "      <td>1100000</td>\n",
       "      <td>2011-07-01</td>\n",
       "      <td>present</td>\n",
       "      <td>senior software engineer</td>\n",
       "      <td>Gurgaon</td>\n",
       "      <td>m</td>\n",
       "      <td>1989-12-05</td>\n",
       "      <td>85.60</td>\n",
       "      <td>cbse</td>\n",
       "      <td>...</td>\n",
       "      <td>-1</td>\n",
       "      <td>-1</td>\n",
       "      <td>-1</td>\n",
       "      <td>-1</td>\n",
       "      <td>-1</td>\n",
       "      <td>0.0464</td>\n",
       "      <td>0.3448</td>\n",
       "      <td>-0.3440</td>\n",
       "      <td>-0.40780</td>\n",
       "      <td>-0.9194</td>\n",
       "    </tr>\n",
       "    <tr>\n",
       "      <th>4</th>\n",
       "      <td>343523</td>\n",
       "      <td>200000</td>\n",
       "      <td>2014-03-01</td>\n",
       "      <td>2015-03-01 00:00:00</td>\n",
       "      <td>get</td>\n",
       "      <td>Manesar</td>\n",
       "      <td>m</td>\n",
       "      <td>1991-02-27</td>\n",
       "      <td>78.00</td>\n",
       "      <td>cbse</td>\n",
       "      <td>...</td>\n",
       "      <td>-1</td>\n",
       "      <td>-1</td>\n",
       "      <td>-1</td>\n",
       "      <td>-1</td>\n",
       "      <td>-1</td>\n",
       "      <td>-0.8810</td>\n",
       "      <td>-0.2793</td>\n",
       "      <td>-1.0697</td>\n",
       "      <td>0.09163</td>\n",
       "      <td>-0.1295</td>\n",
       "    </tr>\n",
       "    <tr>\n",
       "      <th>...</th>\n",
       "      <td>...</td>\n",
       "      <td>...</td>\n",
       "      <td>...</td>\n",
       "      <td>...</td>\n",
       "      <td>...</td>\n",
       "      <td>...</td>\n",
       "      <td>...</td>\n",
       "      <td>...</td>\n",
       "      <td>...</td>\n",
       "      <td>...</td>\n",
       "      <td>...</td>\n",
       "      <td>...</td>\n",
       "      <td>...</td>\n",
       "      <td>...</td>\n",
       "      <td>...</td>\n",
       "      <td>...</td>\n",
       "      <td>...</td>\n",
       "      <td>...</td>\n",
       "      <td>...</td>\n",
       "      <td>...</td>\n",
       "      <td>...</td>\n",
       "    </tr>\n",
       "    <tr>\n",
       "      <th>3993</th>\n",
       "      <td>47916</td>\n",
       "      <td>280000</td>\n",
       "      <td>2011-10-01</td>\n",
       "      <td>2012-10-01 00:00:00</td>\n",
       "      <td>software engineer</td>\n",
       "      <td>New Delhi</td>\n",
       "      <td>m</td>\n",
       "      <td>1987-04-15</td>\n",
       "      <td>52.09</td>\n",
       "      <td>cbse</td>\n",
       "      <td>...</td>\n",
       "      <td>-1</td>\n",
       "      <td>-1</td>\n",
       "      <td>-1</td>\n",
       "      <td>-1</td>\n",
       "      <td>-1</td>\n",
       "      <td>-0.1082</td>\n",
       "      <td>0.3448</td>\n",
       "      <td>0.2366</td>\n",
       "      <td>0.64980</td>\n",
       "      <td>-0.9194</td>\n",
       "    </tr>\n",
       "    <tr>\n",
       "      <th>3994</th>\n",
       "      <td>752781</td>\n",
       "      <td>100000</td>\n",
       "      <td>2013-07-01</td>\n",
       "      <td>2013-07-01 00:00:00</td>\n",
       "      <td>technical writer</td>\n",
       "      <td>Hyderabad</td>\n",
       "      <td>f</td>\n",
       "      <td>1992-08-27</td>\n",
       "      <td>90.00</td>\n",
       "      <td>state board</td>\n",
       "      <td>...</td>\n",
       "      <td>-1</td>\n",
       "      <td>-1</td>\n",
       "      <td>-1</td>\n",
       "      <td>-1</td>\n",
       "      <td>-1</td>\n",
       "      <td>-0.3027</td>\n",
       "      <td>0.8784</td>\n",
       "      <td>0.9322</td>\n",
       "      <td>0.77980</td>\n",
       "      <td>-0.0943</td>\n",
       "    </tr>\n",
       "    <tr>\n",
       "      <th>3995</th>\n",
       "      <td>355888</td>\n",
       "      <td>320000</td>\n",
       "      <td>2013-07-01</td>\n",
       "      <td>present</td>\n",
       "      <td>associate software engineer</td>\n",
       "      <td>Bangalore</td>\n",
       "      <td>m</td>\n",
       "      <td>1991-07-03</td>\n",
       "      <td>81.86</td>\n",
       "      <td>bse,odisha</td>\n",
       "      <td>...</td>\n",
       "      <td>-1</td>\n",
       "      <td>-1</td>\n",
       "      <td>-1</td>\n",
       "      <td>-1</td>\n",
       "      <td>-1</td>\n",
       "      <td>-1.5765</td>\n",
       "      <td>-1.5273</td>\n",
       "      <td>-1.5051</td>\n",
       "      <td>-1.31840</td>\n",
       "      <td>-0.7615</td>\n",
       "    </tr>\n",
       "    <tr>\n",
       "      <th>3996</th>\n",
       "      <td>947111</td>\n",
       "      <td>200000</td>\n",
       "      <td>2014-07-01</td>\n",
       "      <td>2015-01-01 00:00:00</td>\n",
       "      <td>software developer</td>\n",
       "      <td>Asifabadbanglore</td>\n",
       "      <td>f</td>\n",
       "      <td>1992-03-20</td>\n",
       "      <td>78.72</td>\n",
       "      <td>state board</td>\n",
       "      <td>...</td>\n",
       "      <td>438</td>\n",
       "      <td>-1</td>\n",
       "      <td>-1</td>\n",
       "      <td>-1</td>\n",
       "      <td>-1</td>\n",
       "      <td>-0.1590</td>\n",
       "      <td>0.0459</td>\n",
       "      <td>-0.4511</td>\n",
       "      <td>-0.36120</td>\n",
       "      <td>-0.0943</td>\n",
       "    </tr>\n",
       "    <tr>\n",
       "      <th>3997</th>\n",
       "      <td>324966</td>\n",
       "      <td>400000</td>\n",
       "      <td>2013-02-01</td>\n",
       "      <td>present</td>\n",
       "      <td>senior systems engineer</td>\n",
       "      <td>Chennai</td>\n",
       "      <td>f</td>\n",
       "      <td>1991-02-26</td>\n",
       "      <td>70.60</td>\n",
       "      <td>cbse</td>\n",
       "      <td>...</td>\n",
       "      <td>-1</td>\n",
       "      <td>-1</td>\n",
       "      <td>-1</td>\n",
       "      <td>-1</td>\n",
       "      <td>-1</td>\n",
       "      <td>-1.1128</td>\n",
       "      <td>-0.2793</td>\n",
       "      <td>-0.6343</td>\n",
       "      <td>1.32553</td>\n",
       "      <td>-0.6035</td>\n",
       "    </tr>\n",
       "  </tbody>\n",
       "</table>\n",
       "<p>3998 rows × 38 columns</p>\n",
       "</div>"
      ],
      "text/plain": [
       "          ID   Salary        DOJ                  DOL  \\\n",
       "0     203097   420000 2012-06-01              present   \n",
       "1     579905   500000 2013-09-01              present   \n",
       "2     810601   325000 2014-06-01              present   \n",
       "3     267447  1100000 2011-07-01              present   \n",
       "4     343523   200000 2014-03-01  2015-03-01 00:00:00   \n",
       "...      ...      ...        ...                  ...   \n",
       "3993   47916   280000 2011-10-01  2012-10-01 00:00:00   \n",
       "3994  752781   100000 2013-07-01  2013-07-01 00:00:00   \n",
       "3995  355888   320000 2013-07-01              present   \n",
       "3996  947111   200000 2014-07-01  2015-01-01 00:00:00   \n",
       "3997  324966   400000 2013-02-01              present   \n",
       "\n",
       "                      Designation           JobCity Gender        DOB  \\\n",
       "0         senior quality engineer         Bangalore      f 1990-02-19   \n",
       "1               assistant manager            Indore      m 1989-10-04   \n",
       "2                systems engineer           Chennai      f 1992-08-03   \n",
       "3        senior software engineer           Gurgaon      m 1989-12-05   \n",
       "4                             get           Manesar      m 1991-02-27   \n",
       "...                           ...               ...    ...        ...   \n",
       "3993            software engineer        New Delhi       m 1987-04-15   \n",
       "3994             technical writer         Hyderabad      f 1992-08-27   \n",
       "3995  associate software engineer         Bangalore      m 1991-07-03   \n",
       "3996           software developer  Asifabadbanglore      f 1992-03-20   \n",
       "3997      senior systems engineer           Chennai      f 1991-02-26   \n",
       "\n",
       "      10percentage                         10board  ...  ComputerScience  \\\n",
       "0            84.30  board ofsecondary education,ap  ...               -1   \n",
       "1            85.40                            cbse  ...               -1   \n",
       "2            85.00                            cbse  ...               -1   \n",
       "3            85.60                            cbse  ...               -1   \n",
       "4            78.00                            cbse  ...               -1   \n",
       "...            ...                             ...  ...              ...   \n",
       "3993         52.09                            cbse  ...               -1   \n",
       "3994         90.00                     state board  ...               -1   \n",
       "3995         81.86                      bse,odisha  ...               -1   \n",
       "3996         78.72                     state board  ...              438   \n",
       "3997         70.60                            cbse  ...               -1   \n",
       "\n",
       "      MechanicalEngg ElectricalEngg  TelecomEngg  CivilEngg conscientiousness  \\\n",
       "0                 -1             -1           -1         -1            0.9737   \n",
       "1                 -1             -1           -1         -1           -0.7335   \n",
       "2                 -1             -1           -1         -1            0.2718   \n",
       "3                 -1             -1           -1         -1            0.0464   \n",
       "4                 -1             -1           -1         -1           -0.8810   \n",
       "...              ...            ...          ...        ...               ...   \n",
       "3993              -1             -1           -1         -1           -0.1082   \n",
       "3994              -1             -1           -1         -1           -0.3027   \n",
       "3995              -1             -1           -1         -1           -1.5765   \n",
       "3996              -1             -1           -1         -1           -0.1590   \n",
       "3997              -1             -1           -1         -1           -1.1128   \n",
       "\n",
       "     agreeableness  extraversion  nueroticism  openess_to_experience  \n",
       "0           0.8128        0.5269      1.35490                -0.4455  \n",
       "1           0.3789        1.2396     -0.10760                 0.8637  \n",
       "2           1.7109        0.1637     -0.86820                 0.6721  \n",
       "3           0.3448       -0.3440     -0.40780                -0.9194  \n",
       "4          -0.2793       -1.0697      0.09163                -0.1295  \n",
       "...            ...           ...          ...                    ...  \n",
       "3993        0.3448        0.2366      0.64980                -0.9194  \n",
       "3994        0.8784        0.9322      0.77980                -0.0943  \n",
       "3995       -1.5273       -1.5051     -1.31840                -0.7615  \n",
       "3996        0.0459       -0.4511     -0.36120                -0.0943  \n",
       "3997       -0.2793       -0.6343      1.32553                -0.6035  \n",
       "\n",
       "[3998 rows x 38 columns]"
      ]
     },
     "execution_count": 10,
     "metadata": {},
     "output_type": "execute_result"
    }
   ],
   "source": [
    "df_train"
   ]
  },
  {
   "cell_type": "code",
   "execution_count": 11,
   "id": "d9241786",
   "metadata": {
    "execution": {
     "iopub.execute_input": "2022-05-13T17:32:23.419784Z",
     "iopub.status.busy": "2022-05-13T17:32:23.419387Z",
     "iopub.status.idle": "2022-05-13T17:32:23.423364Z",
     "shell.execute_reply": "2022-05-13T17:32:23.422673Z"
    },
    "papermill": {
     "duration": 0.043719,
     "end_time": "2022-05-13T17:32:23.425518",
     "exception": false,
     "start_time": "2022-05-13T17:32:23.381799",
     "status": "completed"
    },
    "tags": []
   },
   "outputs": [
    {
     "data": {
      "text/plain": [
       "(3998, 38)"
      ]
     },
     "execution_count": 11,
     "metadata": {},
     "output_type": "execute_result"
    }
   ],
   "source": [
    "df_train.shape"
   ]
  },
  {
   "cell_type": "code",
   "execution_count": 12,
   "id": "5181925f",
   "metadata": {
    "execution": {
     "iopub.execute_input": "2022-05-13T17:32:23.500369Z",
     "iopub.status.busy": "2022-05-13T17:32:23.500164Z",
     "iopub.status.idle": "2022-05-13T17:32:23.510267Z",
     "shell.execute_reply": "2022-05-13T17:32:23.509815Z"
    },
    "papermill": {
     "duration": 0.048941,
     "end_time": "2022-05-13T17:32:23.511601",
     "exception": false,
     "start_time": "2022-05-13T17:32:23.462660",
     "status": "completed"
    },
    "tags": []
   },
   "outputs": [
    {
     "data": {
      "text/plain": [
       "ID                       0\n",
       "Salary                   0\n",
       "DOJ                      0\n",
       "DOL                      0\n",
       "Designation              0\n",
       "JobCity                  0\n",
       "Gender                   0\n",
       "DOB                      0\n",
       "10percentage             0\n",
       "10board                  0\n",
       "12graduation             0\n",
       "12percentage             0\n",
       "12board                  0\n",
       "CollegeID                0\n",
       "CollegeTier              0\n",
       "Degree                   0\n",
       "Specialization           0\n",
       "collegeGPA               0\n",
       "CollegeCityID            0\n",
       "CollegeCityTier          0\n",
       "CollegeState             0\n",
       "GraduationYear           0\n",
       "English                  0\n",
       "Logical                  0\n",
       "Quant                    0\n",
       "Domain                   0\n",
       "ComputerProgramming      0\n",
       "ElectronicsAndSemicon    0\n",
       "ComputerScience          0\n",
       "MechanicalEngg           0\n",
       "ElectricalEngg           0\n",
       "TelecomEngg              0\n",
       "CivilEngg                0\n",
       "conscientiousness        0\n",
       "agreeableness            0\n",
       "extraversion             0\n",
       "nueroticism              0\n",
       "openess_to_experience    0\n",
       "dtype: int64"
      ]
     },
     "execution_count": 12,
     "metadata": {},
     "output_type": "execute_result"
    }
   ],
   "source": [
    "df_train.isnull().sum()"
   ]
  },
  {
   "cell_type": "code",
   "execution_count": 13,
   "id": "c272edb6",
   "metadata": {
    "execution": {
     "iopub.execute_input": "2022-05-13T17:32:23.587224Z",
     "iopub.status.busy": "2022-05-13T17:32:23.586913Z",
     "iopub.status.idle": "2022-05-13T17:32:23.589113Z",
     "shell.execute_reply": "2022-05-13T17:32:23.588736Z"
    },
    "papermill": {
     "duration": 0.041934,
     "end_time": "2022-05-13T17:32:23.590378",
     "exception": false,
     "start_time": "2022-05-13T17:32:23.548444",
     "status": "completed"
    },
    "tags": []
   },
   "outputs": [],
   "source": [
    "# all columns have all the data"
   ]
  },
  {
   "cell_type": "code",
   "execution_count": 14,
   "id": "34caaa17",
   "metadata": {
    "execution": {
     "iopub.execute_input": "2022-05-13T17:32:23.666041Z",
     "iopub.status.busy": "2022-05-13T17:32:23.665737Z",
     "iopub.status.idle": "2022-05-13T17:32:23.671750Z",
     "shell.execute_reply": "2022-05-13T17:32:23.670485Z"
    },
    "papermill": {
     "duration": 0.046666,
     "end_time": "2022-05-13T17:32:23.673830",
     "exception": false,
     "start_time": "2022-05-13T17:32:23.627164",
     "status": "completed"
    },
    "tags": []
   },
   "outputs": [
    {
     "data": {
      "text/plain": [
       "ID                                int64\n",
       "Salary                            int64\n",
       "DOJ                      datetime64[ns]\n",
       "DOL                              object\n",
       "Designation                      object\n",
       "JobCity                          object\n",
       "Gender                           object\n",
       "DOB                      datetime64[ns]\n",
       "10percentage                    float64\n",
       "10board                          object\n",
       "12graduation                      int64\n",
       "12percentage                    float64\n",
       "12board                          object\n",
       "CollegeID                         int64\n",
       "CollegeTier                       int64\n",
       "Degree                           object\n",
       "Specialization                   object\n",
       "collegeGPA                      float64\n",
       "CollegeCityID                     int64\n",
       "CollegeCityTier                   int64\n",
       "CollegeState                     object\n",
       "GraduationYear                    int64\n",
       "English                           int64\n",
       "Logical                           int64\n",
       "Quant                             int64\n",
       "Domain                          float64\n",
       "ComputerProgramming               int64\n",
       "ElectronicsAndSemicon             int64\n",
       "ComputerScience                   int64\n",
       "MechanicalEngg                    int64\n",
       "ElectricalEngg                    int64\n",
       "TelecomEngg                       int64\n",
       "CivilEngg                         int64\n",
       "conscientiousness               float64\n",
       "agreeableness                   float64\n",
       "extraversion                    float64\n",
       "nueroticism                     float64\n",
       "openess_to_experience           float64\n",
       "dtype: object"
      ]
     },
     "execution_count": 14,
     "metadata": {},
     "output_type": "execute_result"
    }
   ],
   "source": [
    "df_train.dtypes"
   ]
  },
  {
   "cell_type": "markdown",
   "id": "dce7488f",
   "metadata": {
    "papermill": {
     "duration": 0.037037,
     "end_time": "2022-05-13T17:32:23.748376",
     "exception": false,
     "start_time": "2022-05-13T17:32:23.711339",
     "status": "completed"
    },
    "tags": []
   },
   "source": [
    "# Is there a gender bias? in study or earning"
   ]
  },
  {
   "cell_type": "code",
   "execution_count": 15,
   "id": "97f96e94",
   "metadata": {
    "execution": {
     "iopub.execute_input": "2022-05-13T17:32:23.824039Z",
     "iopub.status.busy": "2022-05-13T17:32:23.823800Z",
     "iopub.status.idle": "2022-05-13T17:32:23.828947Z",
     "shell.execute_reply": "2022-05-13T17:32:23.828485Z"
    },
    "papermill": {
     "duration": 0.044952,
     "end_time": "2022-05-13T17:32:23.830356",
     "exception": false,
     "start_time": "2022-05-13T17:32:23.785404",
     "status": "completed"
    },
    "tags": []
   },
   "outputs": [
    {
     "data": {
      "text/plain": [
       "array(['f', 'm'], dtype=object)"
      ]
     },
     "execution_count": 15,
     "metadata": {},
     "output_type": "execute_result"
    }
   ],
   "source": [
    "df_train.Gender.unique()"
   ]
  },
  {
   "cell_type": "markdown",
   "id": "e547b5f6",
   "metadata": {
    "papermill": {
     "duration": 0.037284,
     "end_time": "2022-05-13T17:32:23.905186",
     "exception": false,
     "start_time": "2022-05-13T17:32:23.867902",
     "status": "completed"
    },
    "tags": []
   },
   "source": [
    "### Comparing Salary vs Gender"
   ]
  },
  {
   "cell_type": "code",
   "execution_count": 16,
   "id": "1a104361",
   "metadata": {
    "execution": {
     "iopub.execute_input": "2022-05-13T17:32:23.982390Z",
     "iopub.status.busy": "2022-05-13T17:32:23.982035Z",
     "iopub.status.idle": "2022-05-13T17:32:24.225414Z",
     "shell.execute_reply": "2022-05-13T17:32:24.224747Z"
    },
    "papermill": {
     "duration": 0.284305,
     "end_time": "2022-05-13T17:32:24.227247",
     "exception": false,
     "start_time": "2022-05-13T17:32:23.942942",
     "status": "completed"
    },
    "tags": []
   },
   "outputs": [
    {
     "data": {
      "text/plain": [
       "<AxesSubplot:xlabel='Gender', ylabel='Salary'>"
      ]
     },
     "execution_count": 16,
     "metadata": {},
     "output_type": "execute_result"
    },
    {
     "data": {
      "image/png": "[encoded data removed]",
      "text/plain": [
       "<Figure size 432x288 with 1 Axes>"
      ]
     },
     "metadata": {
      "needs_background": "light"
     },
     "output_type": "display_data"
    }
   ],
   "source": [
    "sns.violinplot(x='Gender', y='Salary', data=df_train)"
   ]
  },
  {
   "cell_type": "markdown",
   "id": "97963c4c",
   "metadata": {
    "papermill": {
     "duration": 0.038374,
     "end_time": "2022-05-13T17:32:24.303909",
     "exception": false,
     "start_time": "2022-05-13T17:32:24.265535",
     "status": "completed"
    },
    "tags": []
   },
   "source": [
    "there is an outlier in case of male in salary"
   ]
  },
  {
   "cell_type": "markdown",
   "id": "26573620",
   "metadata": {
    "papermill": {
     "duration": 0.037966,
     "end_time": "2022-05-13T17:32:24.380486",
     "exception": false,
     "start_time": "2022-05-13T17:32:24.342520",
     "status": "completed"
    },
    "tags": []
   },
   "source": [
    "### Performance in 10, 12 and class vs gender "
   ]
  },
  {
   "cell_type": "code",
   "execution_count": 17,
   "id": "cce55c6a",
   "metadata": {
    "execution": {
     "iopub.execute_input": "2022-05-13T17:32:24.459342Z",
     "iopub.status.busy": "2022-05-13T17:32:24.458944Z",
     "iopub.status.idle": "2022-05-13T17:32:24.472956Z",
     "shell.execute_reply": "2022-05-13T17:32:24.472099Z"
    },
    "papermill": {
     "duration": 0.056225,
     "end_time": "2022-05-13T17:32:24.474733",
     "exception": false,
     "start_time": "2022-05-13T17:32:24.418508",
     "status": "completed"
    },
    "tags": []
   },
   "outputs": [
    {
     "data": {
      "text/html": [
       "<div>\n",
       "<style scoped>\n",
       "    .dataframe tbody tr th:only-of-type {\n",
       "        vertical-align: middle;\n",
       "    }\n",
       "\n",
       "    .dataframe tbody tr th {\n",
       "        vertical-align: top;\n",
       "    }\n",
       "\n",
       "    .dataframe thead th {\n",
       "        text-align: right;\n",
       "    }\n",
       "</style>\n",
       "<table border=\"1\" class=\"dataframe\">\n",
       "  <thead>\n",
       "    <tr style=\"text-align: right;\">\n",
       "      <th></th>\n",
       "      <th>10percentage</th>\n",
       "      <th>12percentage</th>\n",
       "      <th>collegeGPA</th>\n",
       "    </tr>\n",
       "    <tr>\n",
       "      <th>Gender</th>\n",
       "      <th></th>\n",
       "      <th></th>\n",
       "      <th></th>\n",
       "    </tr>\n",
       "  </thead>\n",
       "  <tbody>\n",
       "    <tr>\n",
       "      <th>f</th>\n",
       "      <td>80.932894</td>\n",
       "      <td>77.007618</td>\n",
       "      <td>74.048056</td>\n",
       "    </tr>\n",
       "    <tr>\n",
       "      <th>m</th>\n",
       "      <td>76.979000</td>\n",
       "      <td>73.666636</td>\n",
       "      <td>70.679947</td>\n",
       "    </tr>\n",
       "  </tbody>\n",
       "</table>\n",
       "</div>"
      ],
      "text/plain": [
       "        10percentage  12percentage  collegeGPA\n",
       "Gender                                        \n",
       "f          80.932894     77.007618   74.048056\n",
       "m          76.979000     73.666636   70.679947"
      ]
     },
     "execution_count": 17,
     "metadata": {},
     "output_type": "execute_result"
    }
   ],
   "source": [
    "df_train[['10percentage', '12percentage', 'collegeGPA', 'Gender']].groupby('Gender').mean()"
   ]
  },
  {
   "cell_type": "markdown",
   "id": "e77c58d3",
   "metadata": {
    "papermill": {
     "duration": 0.038249,
     "end_time": "2022-05-13T17:32:24.552064",
     "exception": false,
     "start_time": "2022-05-13T17:32:24.513815",
     "status": "completed"
    },
    "tags": []
   },
   "source": [
    "female is performing better in every board(10, 12 and college score) in mean case"
   ]
  },
  {
   "cell_type": "markdown",
   "id": "b93890bc",
   "metadata": {
    "papermill": {
     "duration": 0.038784,
     "end_time": "2022-05-13T17:32:24.630094",
     "exception": false,
     "start_time": "2022-05-13T17:32:24.591310",
     "status": "completed"
    },
    "tags": []
   },
   "source": [
    "Now we will look for median\n"
   ]
  },
  {
   "cell_type": "code",
   "execution_count": 18,
   "id": "91c012d6",
   "metadata": {
    "execution": {
     "iopub.execute_input": "2022-05-13T17:32:24.709006Z",
     "iopub.status.busy": "2022-05-13T17:32:24.708647Z",
     "iopub.status.idle": "2022-05-13T17:32:24.719252Z",
     "shell.execute_reply": "2022-05-13T17:32:24.718834Z"
    },
    "papermill": {
     "duration": 0.051687,
     "end_time": "2022-05-13T17:32:24.720509",
     "exception": false,
     "start_time": "2022-05-13T17:32:24.668822",
     "status": "completed"
    },
    "tags": []
   },
   "outputs": [
    {
     "data": {
      "text/html": [
       "<div>\n",
       "<style scoped>\n",
       "    .dataframe tbody tr th:only-of-type {\n",
       "        vertical-align: middle;\n",
       "    }\n",
       "\n",
       "    .dataframe tbody tr th {\n",
       "        vertical-align: top;\n",
       "    }\n",
       "\n",
       "    .dataframe thead th {\n",
       "        text-align: right;\n",
       "    }\n",
       "</style>\n",
       "<table border=\"1\" class=\"dataframe\">\n",
       "  <thead>\n",
       "    <tr style=\"text-align: right;\">\n",
       "      <th></th>\n",
       "      <th>10percentage</th>\n",
       "      <th>12percentage</th>\n",
       "      <th>collegeGPA</th>\n",
       "    </tr>\n",
       "    <tr>\n",
       "      <th>Gender</th>\n",
       "      <th></th>\n",
       "      <th></th>\n",
       "      <th></th>\n",
       "    </tr>\n",
       "  </thead>\n",
       "  <tbody>\n",
       "    <tr>\n",
       "      <th>f</th>\n",
       "      <td>82.4</td>\n",
       "      <td>77.0</td>\n",
       "      <td>74.00</td>\n",
       "    </tr>\n",
       "    <tr>\n",
       "      <th>m</th>\n",
       "      <td>78.0</td>\n",
       "      <td>73.4</td>\n",
       "      <td>70.66</td>\n",
       "    </tr>\n",
       "  </tbody>\n",
       "</table>\n",
       "</div>"
      ],
      "text/plain": [
       "        10percentage  12percentage  collegeGPA\n",
       "Gender                                        \n",
       "f               82.4          77.0       74.00\n",
       "m               78.0          73.4       70.66"
      ]
     },
     "execution_count": 18,
     "metadata": {},
     "output_type": "execute_result"
    }
   ],
   "source": [
    "df_train[['10percentage', '12percentage', 'collegeGPA', 'Gender']].groupby('Gender').median()"
   ]
  },
  {
   "cell_type": "markdown",
   "id": "3b41db94",
   "metadata": {
    "papermill": {
     "duration": 0.038786,
     "end_time": "2022-05-13T17:32:24.798377",
     "exception": false,
     "start_time": "2022-05-13T17:32:24.759591",
     "status": "completed"
    },
    "tags": []
   },
   "source": [
    "still female are leading in median wise"
   ]
  },
  {
   "cell_type": "markdown",
   "id": "81b95ee3",
   "metadata": {
    "papermill": {
     "duration": 0.040282,
     "end_time": "2022-05-13T17:32:24.878897",
     "exception": false,
     "start_time": "2022-05-13T17:32:24.838615",
     "status": "completed"
    },
    "tags": []
   },
   "source": [
    "### Now we will look for Personality traits in each gender"
   ]
  },
  {
   "cell_type": "code",
   "execution_count": 19,
   "id": "6ac6f26d",
   "metadata": {
    "execution": {
     "iopub.execute_input": "2022-05-13T17:32:24.959885Z",
     "iopub.status.busy": "2022-05-13T17:32:24.959635Z",
     "iopub.status.idle": "2022-05-13T17:32:24.970379Z",
     "shell.execute_reply": "2022-05-13T17:32:24.969949Z"
    },
    "papermill": {
     "duration": 0.053487,
     "end_time": "2022-05-13T17:32:24.971713",
     "exception": false,
     "start_time": "2022-05-13T17:32:24.918226",
     "status": "completed"
    },
    "tags": []
   },
   "outputs": [
    {
     "data": {
      "text/html": [
       "<div>\n",
       "<style scoped>\n",
       "    .dataframe tbody tr th:only-of-type {\n",
       "        vertical-align: middle;\n",
       "    }\n",
       "\n",
       "    .dataframe tbody tr th {\n",
       "        vertical-align: top;\n",
       "    }\n",
       "\n",
       "    .dataframe thead th {\n",
       "        text-align: right;\n",
       "    }\n",
       "</style>\n",
       "<table border=\"1\" class=\"dataframe\">\n",
       "  <thead>\n",
       "    <tr style=\"text-align: right;\">\n",
       "      <th></th>\n",
       "      <th>conscientiousness</th>\n",
       "      <th>agreeableness</th>\n",
       "      <th>extraversion</th>\n",
       "      <th>nueroticism</th>\n",
       "      <th>openess_to_experience</th>\n",
       "    </tr>\n",
       "    <tr>\n",
       "      <th>Gender</th>\n",
       "      <th></th>\n",
       "      <th></th>\n",
       "      <th></th>\n",
       "      <th></th>\n",
       "      <th></th>\n",
       "    </tr>\n",
       "  </thead>\n",
       "  <tbody>\n",
       "    <tr>\n",
       "      <th>f</th>\n",
       "      <td>0.121034</td>\n",
       "      <td>0.292444</td>\n",
       "      <td>0.012173</td>\n",
       "      <td>-0.179358</td>\n",
       "      <td>0.038246</td>\n",
       "    </tr>\n",
       "    <tr>\n",
       "      <th>m</th>\n",
       "      <td>-0.087826</td>\n",
       "      <td>0.100566</td>\n",
       "      <td>-0.000198</td>\n",
       "      <td>-0.165783</td>\n",
       "      <td>-0.193609</td>\n",
       "    </tr>\n",
       "  </tbody>\n",
       "</table>\n",
       "</div>"
      ],
      "text/plain": [
       "        conscientiousness  agreeableness  extraversion  nueroticism  \\\n",
       "Gender                                                                \n",
       "f                0.121034       0.292444      0.012173    -0.179358   \n",
       "m               -0.087826       0.100566     -0.000198    -0.165783   \n",
       "\n",
       "        openess_to_experience  \n",
       "Gender                         \n",
       "f                    0.038246  \n",
       "m                   -0.193609  "
      ]
     },
     "execution_count": 19,
     "metadata": {},
     "output_type": "execute_result"
    }
   ],
   "source": [
    "df_train[['conscientiousness', 'agreeableness', 'extraversion','nueroticism', 'openess_to_experience', 'Gender']].groupby('Gender').mean()"
   ]
  },
  {
   "cell_type": "markdown",
   "id": "460ce9cd",
   "metadata": {
    "papermill": {
     "duration": 0.039565,
     "end_time": "2022-05-13T17:32:25.051130",
     "exception": false,
     "start_time": "2022-05-13T17:32:25.011565",
     "status": "completed"
    },
    "tags": []
   },
   "source": [
    "across the board females are clearly outscore male"
   ]
  },
  {
   "cell_type": "code",
   "execution_count": 20,
   "id": "ac50ac9e",
   "metadata": {
    "execution": {
     "iopub.execute_input": "2022-05-13T17:32:25.132370Z",
     "iopub.status.busy": "2022-05-13T17:32:25.132024Z",
     "iopub.status.idle": "2022-05-13T17:32:25.143572Z",
     "shell.execute_reply": "2022-05-13T17:32:25.142542Z"
    },
    "papermill": {
     "duration": 0.054025,
     "end_time": "2022-05-13T17:32:25.145219",
     "exception": false,
     "start_time": "2022-05-13T17:32:25.091194",
     "status": "completed"
    },
    "tags": []
   },
   "outputs": [
    {
     "data": {
      "text/html": [
       "<div>\n",
       "<style scoped>\n",
       "    .dataframe tbody tr th:only-of-type {\n",
       "        vertical-align: middle;\n",
       "    }\n",
       "\n",
       "    .dataframe tbody tr th {\n",
       "        vertical-align: top;\n",
       "    }\n",
       "\n",
       "    .dataframe thead th {\n",
       "        text-align: right;\n",
       "    }\n",
       "</style>\n",
       "<table border=\"1\" class=\"dataframe\">\n",
       "  <thead>\n",
       "    <tr style=\"text-align: right;\">\n",
       "      <th></th>\n",
       "      <th>conscientiousness</th>\n",
       "      <th>agreeableness</th>\n",
       "      <th>extraversion</th>\n",
       "      <th>nueroticism</th>\n",
       "      <th>openess_to_experience</th>\n",
       "    </tr>\n",
       "    <tr>\n",
       "      <th>Gender</th>\n",
       "      <th></th>\n",
       "      <th></th>\n",
       "      <th></th>\n",
       "      <th></th>\n",
       "      <th></th>\n",
       "    </tr>\n",
       "  </thead>\n",
       "  <tbody>\n",
       "    <tr>\n",
       "      <th>f</th>\n",
       "      <td>0.2718</td>\n",
       "      <td>0.3789</td>\n",
       "      <td>0.0914</td>\n",
       "      <td>-0.23440</td>\n",
       "      <td>0.0973</td>\n",
       "    </tr>\n",
       "    <tr>\n",
       "      <th>m</th>\n",
       "      <td>-0.0154</td>\n",
       "      <td>0.2124</td>\n",
       "      <td>0.0914</td>\n",
       "      <td>-0.17277</td>\n",
       "      <td>-0.0943</td>\n",
       "    </tr>\n",
       "  </tbody>\n",
       "</table>\n",
       "</div>"
      ],
      "text/plain": [
       "        conscientiousness  agreeableness  extraversion  nueroticism  \\\n",
       "Gender                                                                \n",
       "f                  0.2718         0.3789        0.0914     -0.23440   \n",
       "m                 -0.0154         0.2124        0.0914     -0.17277   \n",
       "\n",
       "        openess_to_experience  \n",
       "Gender                         \n",
       "f                      0.0973  \n",
       "m                     -0.0943  "
      ]
     },
     "execution_count": 20,
     "metadata": {},
     "output_type": "execute_result"
    }
   ],
   "source": [
    "df_train[['conscientiousness', 'agreeableness', 'extraversion','nueroticism', 'openess_to_experience', 'Gender']].groupby('Gender').median()"
   ]
  },
  {
   "cell_type": "markdown",
   "id": "8cde127f",
   "metadata": {
    "papermill": {
     "duration": 0.040271,
     "end_time": "2022-05-13T17:32:25.225524",
     "exception": false,
     "start_time": "2022-05-13T17:32:25.185253",
     "status": "completed"
    },
    "tags": []
   },
   "source": [
    "# Now, Salary vs Gender"
   ]
  },
  {
   "cell_type": "code",
   "execution_count": 21,
   "id": "684b23ff",
   "metadata": {
    "execution": {
     "iopub.execute_input": "2022-05-13T17:32:25.307173Z",
     "iopub.status.busy": "2022-05-13T17:32:25.306847Z",
     "iopub.status.idle": "2022-05-13T17:32:25.316760Z",
     "shell.execute_reply": "2022-05-13T17:32:25.316029Z"
    },
    "papermill": {
     "duration": 0.052829,
     "end_time": "2022-05-13T17:32:25.318572",
     "exception": false,
     "start_time": "2022-05-13T17:32:25.265743",
     "status": "completed"
    },
    "tags": []
   },
   "outputs": [
    {
     "data": {
      "text/html": [
       "<div>\n",
       "<style scoped>\n",
       "    .dataframe tbody tr th:only-of-type {\n",
       "        vertical-align: middle;\n",
       "    }\n",
       "\n",
       "    .dataframe tbody tr th {\n",
       "        vertical-align: top;\n",
       "    }\n",
       "\n",
       "    .dataframe thead th {\n",
       "        text-align: right;\n",
       "    }\n",
       "</style>\n",
       "<table border=\"1\" class=\"dataframe\">\n",
       "  <thead>\n",
       "    <tr style=\"text-align: right;\">\n",
       "      <th></th>\n",
       "      <th>Salary</th>\n",
       "    </tr>\n",
       "    <tr>\n",
       "      <th>Gender</th>\n",
       "      <th></th>\n",
       "    </tr>\n",
       "  </thead>\n",
       "  <tbody>\n",
       "    <tr>\n",
       "      <th>f</th>\n",
       "      <td>294937.304075</td>\n",
       "    </tr>\n",
       "    <tr>\n",
       "      <th>m</th>\n",
       "      <td>311716.211772</td>\n",
       "    </tr>\n",
       "  </tbody>\n",
       "</table>\n",
       "</div>"
      ],
      "text/plain": [
       "               Salary\n",
       "Gender               \n",
       "f       294937.304075\n",
       "m       311716.211772"
      ]
     },
     "execution_count": 21,
     "metadata": {},
     "output_type": "execute_result"
    }
   ],
   "source": [
    "df_train[['Salary', 'Gender']].groupby('Gender').mean()"
   ]
  },
  {
   "cell_type": "code",
   "execution_count": 22,
   "id": "08b2c9dd",
   "metadata": {
    "execution": {
     "iopub.execute_input": "2022-05-13T17:32:25.412361Z",
     "iopub.status.busy": "2022-05-13T17:32:25.411623Z",
     "iopub.status.idle": "2022-05-13T17:32:25.422021Z",
     "shell.execute_reply": "2022-05-13T17:32:25.421175Z"
    },
    "papermill": {
     "duration": 0.057518,
     "end_time": "2022-05-13T17:32:25.423835",
     "exception": false,
     "start_time": "2022-05-13T17:32:25.366317",
     "status": "completed"
    },
    "tags": []
   },
   "outputs": [
    {
     "data": {
      "text/html": [
       "<div>\n",
       "<style scoped>\n",
       "    .dataframe tbody tr th:only-of-type {\n",
       "        vertical-align: middle;\n",
       "    }\n",
       "\n",
       "    .dataframe tbody tr th {\n",
       "        vertical-align: top;\n",
       "    }\n",
       "\n",
       "    .dataframe thead th {\n",
       "        text-align: right;\n",
       "    }\n",
       "</style>\n",
       "<table border=\"1\" class=\"dataframe\">\n",
       "  <thead>\n",
       "    <tr style=\"text-align: right;\">\n",
       "      <th></th>\n",
       "      <th>Salary</th>\n",
       "    </tr>\n",
       "    <tr>\n",
       "      <th>Gender</th>\n",
       "      <th></th>\n",
       "    </tr>\n",
       "  </thead>\n",
       "  <tbody>\n",
       "    <tr>\n",
       "      <th>f</th>\n",
       "      <td>300000.0</td>\n",
       "    </tr>\n",
       "    <tr>\n",
       "      <th>m</th>\n",
       "      <td>300000.0</td>\n",
       "    </tr>\n",
       "  </tbody>\n",
       "</table>\n",
       "</div>"
      ],
      "text/plain": [
       "          Salary\n",
       "Gender          \n",
       "f       300000.0\n",
       "m       300000.0"
      ]
     },
     "execution_count": 22,
     "metadata": {},
     "output_type": "execute_result"
    }
   ],
   "source": [
    "df_train[['Salary', 'Gender']].groupby('Gender').median()"
   ]
  },
  {
   "cell_type": "code",
   "execution_count": 23,
   "id": "819a230b",
   "metadata": {
    "execution": {
     "iopub.execute_input": "2022-05-13T17:32:25.507188Z",
     "iopub.status.busy": "2022-05-13T17:32:25.506761Z",
     "iopub.status.idle": "2022-05-13T17:32:25.524134Z",
     "shell.execute_reply": "2022-05-13T17:32:25.522954Z"
    },
    "papermill": {
     "duration": 0.061459,
     "end_time": "2022-05-13T17:32:25.525822",
     "exception": false,
     "start_time": "2022-05-13T17:32:25.464363",
     "status": "completed"
    },
    "tags": []
   },
   "outputs": [
    {
     "name": "stdout",
     "output_type": "stream",
     "text": [
      "         Salary\n",
      "Gender         \n",
      "f       3500000\n",
      "m       4000000\n",
      "        Salary\n",
      "Gender        \n",
      "f        35000\n",
      "m        35000\n"
     ]
    }
   ],
   "source": [
    "print(df_train[['Salary', 'Gender']].groupby(\"Gender\").max())\n",
    "print(df_train[['Salary', 'Gender']].groupby('Gender').min())"
   ]
  },
  {
   "cell_type": "markdown",
   "id": "ee460674",
   "metadata": {
    "papermill": {
     "duration": 0.0414,
     "end_time": "2022-05-13T17:32:25.607450",
     "exception": false,
     "start_time": "2022-05-13T17:32:25.566050",
     "status": "completed"
    },
    "tags": []
   },
   "source": [
    "Male are getting better salary according to mean, but using median M&F are paid equally"
   ]
  },
  {
   "cell_type": "markdown",
   "id": "1a1fea87",
   "metadata": {
    "papermill": {
     "duration": 0.041275,
     "end_time": "2022-05-13T17:32:25.691510",
     "exception": false,
     "start_time": "2022-05-13T17:32:25.650235",
     "status": "completed"
    },
    "tags": []
   },
   "source": [
    "### Now we will dig more for Gender vs salary\n",
    "If we find mean of larger than threshold\n",
    "and if we find mean of lesser than threshold\n",
    "\n",
    "higher bracket mean it's greater than threshold\n",
    "lower bracket mean it's lesser than threshold"
   ]
  },
  {
   "cell_type": "code",
   "execution_count": 24,
   "id": "2021bed9",
   "metadata": {
    "execution": {
     "iopub.execute_input": "2022-05-13T17:32:25.775768Z",
     "iopub.status.busy": "2022-05-13T17:32:25.775464Z",
     "iopub.status.idle": "2022-05-13T17:32:25.780656Z",
     "shell.execute_reply": "2022-05-13T17:32:25.780192Z"
    },
    "papermill": {
     "duration": 0.04911,
     "end_time": "2022-05-13T17:32:25.782006",
     "exception": false,
     "start_time": "2022-05-13T17:32:25.732896",
     "status": "completed"
    },
    "tags": []
   },
   "outputs": [],
   "source": [
    "threshold = df_train.Salary.mean() + df_train.Salary.std()"
   ]
  },
  {
   "cell_type": "code",
   "execution_count": 25,
   "id": "314507e4",
   "metadata": {
    "execution": {
     "iopub.execute_input": "2022-05-13T17:32:25.866218Z",
     "iopub.status.busy": "2022-05-13T17:32:25.865572Z",
     "iopub.status.idle": "2022-05-13T17:32:25.871106Z",
     "shell.execute_reply": "2022-05-13T17:32:25.870712Z"
    },
    "papermill": {
     "duration": 0.048964,
     "end_time": "2022-05-13T17:32:25.872511",
     "exception": false,
     "start_time": "2022-05-13T17:32:25.823547",
     "status": "completed"
    },
    "tags": []
   },
   "outputs": [
    {
     "data": {
      "text/plain": [
       "520437.34988181875"
      ]
     },
     "execution_count": 25,
     "metadata": {},
     "output_type": "execute_result"
    }
   ],
   "source": [
    "threshold"
   ]
  },
  {
   "cell_type": "code",
   "execution_count": 26,
   "id": "332f1962",
   "metadata": {
    "execution": {
     "iopub.execute_input": "2022-05-13T17:32:25.957501Z",
     "iopub.status.busy": "2022-05-13T17:32:25.957199Z",
     "iopub.status.idle": "2022-05-13T17:32:25.961061Z",
     "shell.execute_reply": "2022-05-13T17:32:25.960604Z"
    },
    "papermill": {
     "duration": 0.048746,
     "end_time": "2022-05-13T17:32:25.962518",
     "exception": false,
     "start_time": "2022-05-13T17:32:25.913772",
     "status": "completed"
    },
    "tags": []
   },
   "outputs": [],
   "source": [
    "# adding column of higher bracket\n",
    "df_train['HighIncome'] = (df_train.Salary > threshold)"
   ]
  },
  {
   "cell_type": "code",
   "execution_count": 27,
   "id": "0589d44a",
   "metadata": {
    "execution": {
     "iopub.execute_input": "2022-05-13T17:32:26.046834Z",
     "iopub.status.busy": "2022-05-13T17:32:26.046509Z",
     "iopub.status.idle": "2022-05-13T17:32:26.052262Z",
     "shell.execute_reply": "2022-05-13T17:32:26.051727Z"
    },
    "papermill": {
     "duration": 0.04984,
     "end_time": "2022-05-13T17:32:26.053794",
     "exception": false,
     "start_time": "2022-05-13T17:32:26.003954",
     "status": "completed"
    },
    "tags": []
   },
   "outputs": [
    {
     "data": {
      "text/plain": [
       "0       False\n",
       "1       False\n",
       "2       False\n",
       "3        True\n",
       "4       False\n",
       "        ...  \n",
       "3993    False\n",
       "3994    False\n",
       "3995    False\n",
       "3996    False\n",
       "3997    False\n",
       "Name: HighIncome, Length: 3998, dtype: bool"
      ]
     },
     "execution_count": 27,
     "metadata": {},
     "output_type": "execute_result"
    }
   ],
   "source": [
    "df_train['HighIncome']"
   ]
  },
  {
   "cell_type": "markdown",
   "id": "27b26dbd",
   "metadata": {
    "papermill": {
     "duration": 0.040876,
     "end_time": "2022-05-13T17:32:26.136551",
     "exception": false,
     "start_time": "2022-05-13T17:32:26.095675",
     "status": "completed"
    },
    "tags": []
   },
   "source": [
    "finding mean when it will be group using `Gender` and `HighIncome`"
   ]
  },
  {
   "cell_type": "code",
   "execution_count": 28,
   "id": "8b9117e2",
   "metadata": {
    "execution": {
     "iopub.execute_input": "2022-05-13T17:32:26.221709Z",
     "iopub.status.busy": "2022-05-13T17:32:26.221387Z",
     "iopub.status.idle": "2022-05-13T17:32:26.235871Z",
     "shell.execute_reply": "2022-05-13T17:32:26.235078Z"
    },
    "papermill": {
     "duration": 0.059149,
     "end_time": "2022-05-13T17:32:26.237399",
     "exception": false,
     "start_time": "2022-05-13T17:32:26.178250",
     "status": "completed"
    },
    "tags": []
   },
   "outputs": [
    {
     "data": {
      "text/html": [
       "<div>\n",
       "<style scoped>\n",
       "    .dataframe tbody tr th:only-of-type {\n",
       "        vertical-align: middle;\n",
       "    }\n",
       "\n",
       "    .dataframe tbody tr th {\n",
       "        vertical-align: top;\n",
       "    }\n",
       "\n",
       "    .dataframe thead th {\n",
       "        text-align: right;\n",
       "    }\n",
       "</style>\n",
       "<table border=\"1\" class=\"dataframe\">\n",
       "  <thead>\n",
       "    <tr style=\"text-align: right;\">\n",
       "      <th></th>\n",
       "      <th></th>\n",
       "      <th>Salary</th>\n",
       "    </tr>\n",
       "    <tr>\n",
       "      <th>HighIncome</th>\n",
       "      <th>Gender</th>\n",
       "      <th></th>\n",
       "    </tr>\n",
       "  </thead>\n",
       "  <tbody>\n",
       "    <tr>\n",
       "      <th rowspan=\"2\" valign=\"top\">False</th>\n",
       "      <th>f</th>\n",
       "      <td>271499.454744</td>\n",
       "    </tr>\n",
       "    <tr>\n",
       "      <th>m</th>\n",
       "      <td>272598.433606</td>\n",
       "    </tr>\n",
       "    <tr>\n",
       "      <th rowspan=\"2\" valign=\"top\">True</th>\n",
       "      <th>f</th>\n",
       "      <td>832250.000000</td>\n",
       "    </tr>\n",
       "    <tr>\n",
       "      <th>m</th>\n",
       "      <td>785344.827586</td>\n",
       "    </tr>\n",
       "  </tbody>\n",
       "</table>\n",
       "</div>"
      ],
      "text/plain": [
       "                          Salary\n",
       "HighIncome Gender               \n",
       "False      f       271499.454744\n",
       "           m       272598.433606\n",
       "True       f       832250.000000\n",
       "           m       785344.827586"
      ]
     },
     "execution_count": 28,
     "metadata": {},
     "output_type": "execute_result"
    }
   ],
   "source": [
    "df_train[['Salary', 'HighIncome', 'Gender']].groupby(['HighIncome', 'Gender']).mean()"
   ]
  },
  {
   "cell_type": "markdown",
   "id": "7488b161",
   "metadata": {
    "papermill": {
     "duration": 0.042207,
     "end_time": "2022-05-13T17:32:26.322122",
     "exception": false,
     "start_time": "2022-05-13T17:32:26.279915",
     "status": "completed"
    },
    "tags": []
   },
   "source": [
    "Means, feamale are paid more in higherBraacket, and in lowerBracket both r paid same almost"
   ]
  },
  {
   "cell_type": "code",
   "execution_count": null,
   "id": "36b49bb7",
   "metadata": {
    "papermill": {
     "duration": 0.042246,
     "end_time": "2022-05-13T17:32:26.406643",
     "exception": false,
     "start_time": "2022-05-13T17:32:26.364397",
     "status": "completed"
    },
    "tags": []
   },
   "outputs": [],
   "source": []
  }
 ],
 "metadata": {
  "kernelspec": {
   "display_name": "Python 3",
   "language": "python",
   "name": "python3"
  },
  "language_info": {
   "codemirror_mode": {
    "name": "ipython",
    "version": 3
   },
   "file_extension": ".py",
   "mimetype": "text/x-python",
   "name": "python",
   "nbconvert_exporter": "python",
   "pygments_lexer": "ipython3",
   "version": "3.7.12"
  },
  "papermill": {
   "default_parameters": {},
   "duration": 33.922479,
   "end_time": "2022-05-13T17:32:27.368785",
   "environment_variables": {},
   "exception": null,
   "input_path": "__notebook__.ipynb",
   "output_path": "__notebook__.ipynb",
   "parameters": {},
   "start_time": "2022-05-13T17:31:53.446306",
   "version": "2.3.4"
  }
 },
 "nbformat": 4,
 "nbformat_minor": 5
}
